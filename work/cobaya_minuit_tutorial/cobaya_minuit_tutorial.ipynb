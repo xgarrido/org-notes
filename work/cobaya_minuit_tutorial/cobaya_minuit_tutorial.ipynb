{
 "cells": [
  {
   "cell_type": "markdown",
   "metadata": {},
   "source": [
    "This tutorial will go through the different steps to install a [MINUIT sampler for cobaya](https://github.com/xgarrido/cobaya-minuit-sampler) and to make\n",
    "use of it and its options. In a first part, we will see how to install everything from scratch\n",
    "(assuming `python` is correctly installed) and then we will see how to use the MINUIT minimizer to get\n",
    "the best cosmological values given a CMB power spectrum.\n",
    "\n"
   ]
  },
  {
   "cell_type": "markdown",
   "metadata": {},
   "source": [
    "## Installing MINUIT sampler\n",
    "\n"
   ]
  },
  {
   "cell_type": "markdown",
   "metadata": {},
   "source": [
    "### Creating a virtual environment\n",
    "\n"
   ]
  },
  {
   "cell_type": "markdown",
   "metadata": {},
   "source": [
    "We first create virtual environment to encapsulate all the `python` work we will do. If you use a\n",
    "version of `python` greater than 2.7 then you just have to do\n",
    "\n",
    "    $ python -m venv /tmp/tutorial.d/env\n",
    "\n",
    "where `/tmp/python.d` will be our working directory. Change it to whatever you want. You should now\n",
    "have a `/tmp/python.d` directory holding a typical unix filesystem with `bin`, `lib` and `include`\n",
    "directories within. If you have a version of `python` smaller than 3, then you have to create your\n",
    "virtual env. with the `virtualenv` command as follow\n",
    "\n",
    "    $ virtualenv /tmp/tutorial.d/env\n",
    "\n",
    "If the `virtualenv` command does not exist and you do not have admin permissions to install it *via* a\n",
    "package manager, you can install with `pip` and put it in your home directory by doing\n",
    "\n",
    "    $ pip install --user virtualenv\n",
    "\n",
    "After the creation of your virtual env., you will need **to load it every time you open a new\n",
    "terminal** :\n",
    "\n",
    "    $ source /tmp/tutorial.d/env/bin/activate\n",
    "\n",
    "To make sure you are now using the `python` binary from your virtual env., you can try\n",
    "\n",
    "    $ which python\n",
    "\n",
    "which should point to `/tmp/tutorial.d/env/bin/python`.\n",
    "\n"
   ]
  },
  {
   "cell_type": "markdown",
   "metadata": {},
   "source": [
    "### Installing MINUIT sampler for cobaya\n",
    "\n"
   ]
  },
  {
   "cell_type": "markdown",
   "metadata": {},
   "source": [
    "Now that you have a virtual env., you can download and install all python modules you want. There\n",
    "will be stored in the `/tmp/tutorial.d/env/lib/pythonX.X/site-packages` where `X.X` refers to your\n",
    "`python` version.\n",
    "\n",
    "Installing the MINUIT sampler for cobaya and all its dependencies should be as easy as\n",
    "\n",
    "    $ pip install git+https://github.com/xgarrido/cobaya-minuit-sampler.git\n",
    "\n",
    "This should install all the `cobaya` software framework with all `python` scientific library such as\n",
    "`numpy`, `scipy` and other CMB related stuff like [`GetDist`](https://github.com/cmbant/getdist).\n",
    "\n",
    "For plotting purpose, we will also install `matplotlib`<sup><a id=\"fnr.1\" class=\"footref\" href=\"#fn.1\">1</a></sup>\n",
    "\n",
    "    $ pip install matplotlib\n",
    "\n",
    "and `ipython` for interactive shell<sup><a id=\"fnr.2\" class=\"footref\" href=\"#fn.2\">2</a></sup>\n",
    "\n",
    "    $ pip install ipython\n",
    "\n",
    "\n",
    "# Footnotes\n",
    "\n",
    "<sup><a id=\"fn.1\" href=\"#fnr.1\">1</a></sup> this should be a dependency of `cobaya` *via* `GetDist` package but it seems not to\n",
    "be installed by `pip`\n",
    "\n",
    "<sup><a id=\"fn.2\" href=\"#fnr.2\">2</a></sup> you may need to rerun the `source` command line to make sure the proper `ipython`\n",
    "binary is used (and not the system wide one)\n"
   ]
  },
  {
   "cell_type": "markdown",
   "metadata": {},
   "source": [
    "## First try with cobaya\n",
    "\n"
   ]
  },
  {
   "cell_type": "markdown",
   "metadata": {},
   "source": [
    "### Simulating a CMB power spectrum\n",
    "\n"
   ]
  },
  {
   "cell_type": "markdown",
   "metadata": {},
   "source": [
    "We will first try to simulate a fictitious CMB power spectrum to make use of `coabaya`'s theory\n",
    "block. `cobaya` can use [CAMB](https://github.com/cmbant/CAMB) as well as [CLASS](http://class-code.net/) and has a common interface to both of them *via* the\n",
    "`theory` block that we will use here. Nevertheless, the cosmological parameters syntax has not been\n",
    "uniformized so defining CMB variable names may change from one code to the other. For the time\n",
    "being, we will use CAMB and we will follow the following `cobaya`'s [tutorial](https://cobaya.readthedocs.io/en/latest/cosmo_external_likelihood.html).\n",
    "\n",
    "Let's first declare the CAMB variables at a given values\n",
    "\n"
   ]
  },
  {
   "cell_type": "code",
   "execution_count": 1,
   "metadata": {},
   "outputs": [],
   "source": [
    "params = {\n",
    "    \"ombh2\": 0.022, \"omch2\": 0.12, \"H0\": 68, \"tau\": 0.07,\n",
    "    \"As\": 2.2e-9, \"ns\": 0.96,\n",
    "    \"mnu\": 0.06, \"nnu\": 3.046, \"num_massive_neutrinos\": 1}"
   ]
  },
  {
   "cell_type": "markdown",
   "metadata": {},
   "source": [
    "Let's put this dictionary of values into `cobaya` internal system of configuration\n",
    "\n"
   ]
  },
  {
   "cell_type": "code",
   "execution_count": 1,
   "metadata": {},
   "outputs": [],
   "source": [
    "info = {\n",
    "    \"params\": params,\n",
    "    \"likelihood\": {\"one\": None},\n",
    "    \"theory\": {\"camb\": None}\n",
    "}"
   ]
  },
  {
   "cell_type": "markdown",
   "metadata": {},
   "source": [
    "`cobaya` is built upon different blocks which are so far a `params`, `likelihood` and `theory` blocks. Each\n",
    "of them belong to a special `python` class that can be overloaded. For instance, the `theory` class will\n",
    "instantiante `camb` but using CLASS is as simple as changing `camb` into `classy`. We will see later how\n",
    "to define our own likelihood and we will also adress how all these parameters can be pushed into a\n",
    "`yaml` file to be parsed by `cobaya`.\n",
    "\n",
    "We will now get the model given the above parameters\n",
    "\n"
   ]
  },
  {
   "cell_type": "code",
   "execution_count": 1,
   "metadata": {},
   "outputs": [],
   "source": [
    "from cobaya.model import get_model\n",
    "model = get_model(info)"
   ]
  },
  {
   "cell_type": "markdown",
   "metadata": {},
   "source": [
    "You should now get a `ModuleNotFoundError` exception given that CAMB has not been found.\n",
    "\n",
    "    No sampled parameters requested! This will fail for non-mock samplers.\n",
    "    Importing *global* CAMB.\n",
    "    Couldn't find the CAMB python interface.\n",
    "    Make sure that you have compiled it, and that you either\n",
    "     (a) specify a path (you didn't) or\n",
    "     (b) install the Python interface globally with\n",
    "         '/path/to/camb/pycamb/python setup.py install --user'\n",
    "\n",
    "As the exception will tell you you can either define a `path` within the `theory` block above which\n",
    "points to `python` interface to CAMB or install `pycamb`. We will use the latter and we will first `git`\n",
    "clone CAMB and then install `pycamb` (you will need a recent version of `gfortran` *i.e.* greater than\n",
    "4.8)\n",
    "\n",
    "    $ git clone https://github.com/cmbant/CAMB.git /tmp/tutorial.d/modules/camb\n",
    "    \n",
    "    $ cd /tmp/tutorial.d/modules/camb/pycamb\n",
    "    \n",
    "    $ python setup.py install\n",
    "\n",
    "Now loading the `cobaya` model should work without any exception. We then have to tell `cobaya's theory`\n",
    "that we will need the computation of $C_\\ell$ up to $\\ell_\\text{max} = 1000$\n",
    "\n"
   ]
  },
  {
   "cell_type": "code",
   "execution_count": 1,
   "metadata": {},
   "outputs": [],
   "source": [
    "model.likelihood.theory.needs(cl={\"tt\": 1000})"
   ]
  },
  {
   "cell_type": "markdown",
   "metadata": {},
   "source": [
    "and compute the CMB power spectrum (`ell_factor=True` means normalization by $\\ell(\\ell+1)/(2\\pi)$)\n",
    "\n"
   ]
  },
  {
   "cell_type": "code",
   "execution_count": 1,
   "metadata": {},
   "outputs": [],
   "source": [
    "model.logposterior({})\n",
    "Dls = model.likelihood.theory.get_cl(ell_factor=True)\n",
    "Dl_tt = Dls[\"tt\"]"
   ]
  },
  {
   "cell_type": "markdown",
   "metadata": {},
   "source": [
    "The first line, the empty dictionary of posteriors, actually means the parameters are all fixed.\n",
    "\n",
    "Finally, let's plot things between $(\\ell_\\text{min}, \\ell_\\text{max})$\n",
    "\n"
   ]
  },
  {
   "cell_type": "code",
   "execution_count": 1,
   "metadata": {},
   "outputs": [
    {
     "name": "stdout",
     "output_type": "stream",
     "text": [
      "# Out[190]:\n",
      "Text(0, 0.5, '$D_\\\\ell$')"
     ]
    },
    {
     "data": {
      "image/png": "[encoded data removed]",
      "text/plain": [
       "<matplotlib.figure.Figure>"
      ]
     },
     "metadata": {},
     "output_type": "display_data"
    }
   ],
   "source": [
    "%matplotlib inline\n",
    "import numpy as np\n",
    "import matplotlib.pyplot as plt\n",
    "\n",
    "lmin, lmax = 2, 1000\n",
    "l = np.arange(lmin, lmax)\n",
    "Dl = Dl_tt[lmin:lmax]\n",
    "plt.plot(l, Dl, \"r\")\n",
    "plt.xlabel(r\"$\\ell$\")\n",
    "plt.ylabel(r\"$D_\\ell$\")"
   ]
  },
  {
   "cell_type": "markdown",
   "metadata": {},
   "source": [
    "As we wil see later the `info` dictionary can be all declared within a `yaml` file to ease the `cobaya`'s\n",
    "configuration.\n",
    "\n"
   ]
  },
  {
   "cell_type": "markdown",
   "metadata": {},
   "source": [
    "## Using MINUIT sampler within cobaya\n",
    "\n"
   ]
  },
  {
   "cell_type": "markdown",
   "metadata": {},
   "source": [
    "Given the previous simulated spectrum, we will now bin it and slightly disturbed it to apply the\n",
    "MINUIT sampler and get back the best cosmological parameters from minimization.\n",
    "\n"
   ]
  },
  {
   "cell_type": "markdown",
   "metadata": {},
   "source": [
    "### Binning and building an \"observable\" CMB spectrum\n",
    "\n"
   ]
  },
  {
   "cell_type": "markdown",
   "metadata": {},
   "source": [
    "Let's define a function `bin_spectrum` that will compute the mean and its error on $D_\\ell$ value\n",
    "given a `delta_l` sample size\n",
    "\n"
   ]
  },
  {
   "cell_type": "code",
   "execution_count": 1,
   "metadata": {},
   "outputs": [],
   "source": [
    "def bin_spectrum(Dl, l, lmin, lmax, delta_l):\n",
    "    nbin = np.int(lmax/delta_l)\n",
    "    lb = np.zeros(nbin)\n",
    "    db = np.zeros(nbin)\n",
    "    err_db = np.zeros(nbin)\n",
    "    for i in range(nbin):\n",
    "        idx = np.where((l>i*delta_l) & (l<(i+1)*delta_l))\n",
    "        db[i] = np.mean(Dl[idx])\n",
    "        lb[i] = np.mean(l[idx])\n",
    "        err_db[i] = np.std(Dl[idx])/np.sqrt(np.alen(idx))\n",
    "    idx = np.where(lb>lmin)\n",
    "    lb, db, err_db = lb[idx], db[idx], err_db[idx]\n",
    "    return lb, db, err_db"
   ]
  },
  {
   "cell_type": "markdown",
   "metadata": {},
   "source": [
    "Bin the spectrum with a $\\Delta\\ell=30$ bin size and disturb it given the error bar\n",
    "\n"
   ]
  },
  {
   "cell_type": "code",
   "execution_count": 1,
   "metadata": {},
   "outputs": [],
   "source": [
    "delta_l = 30\n",
    "lb, Db, err_Db = bin_spectrum(Dl, l, lmin=lmin, lmax=lmax, delta_l=delta_l)\n",
    "Db_obs = Db + err_Db * np.random.randn(np.alen(err_Db))"
   ]
  },
  {
   "cell_type": "markdown",
   "metadata": {},
   "source": [
    "Let's plot everything together\n",
    "\n"
   ]
  },
  {
   "cell_type": "code",
   "execution_count": 1,
   "metadata": {},
   "outputs": [
    {
     "name": "stdout",
     "output_type": "stream",
     "text": [
      "# Out[193]:\n",
      "Text(0.5, 0, '$\\\\ell$')"
     ]
    },
    {
     "data": {
      "image/png": "[encoded data removed]",
      "text/plain": [
       "<matplotlib.figure.Figure>"
      ]
     },
     "metadata": {},
     "output_type": "display_data"
    }
   ],
   "source": [
    "grid = plt.GridSpec(4, 1, hspace=0, wspace=0)\n",
    "main = plt.subplot(grid[0:3], xticklabels=[])\n",
    "main.plot(l, Dl, \"red\")\n",
    "main.errorbar(lb, Db_obs, yerr=err_Db, fmt=\"ok\")\n",
    "main.set_ylabel(r\"$D_\\ell$\")\n",
    "chi2 = np.sum(((Db_obs - Db)/err_Db)**2)/np.alen(lb)\n",
    "main.text(0.75, 0.9, r\"$\\chi^2$/ndf = {:.3f}\".format(chi2),\n",
    "          transform=main.transAxes)\n",
    "\n",
    "dev = plt.subplot(grid[3], ylim=[-5,5])\n",
    "dev.plot(lb, (Db_obs - Db)/err_Db, \"ok\")\n",
    "dev.axhline(0, color=\"red\")\n",
    "dev.set_ylabel(r\"$\\Delta D_\\ell\\;[\\sigma]$\")\n",
    "dev.set_xlabel(r\"$\\ell$\")"
   ]
  },
  {
   "cell_type": "markdown",
   "metadata": {},
   "source": [
    "### Setting-up the minimization program\n",
    "\n"
   ]
  },
  {
   "cell_type": "markdown",
   "metadata": {},
   "source": [
    "Given the observable CMB spectrum *i.e.* `Db_obs` in our code, we will use MINUIT minimization algorithm\n",
    "to find the best cosmological parameter values. In this tutorial, we will only minimize against the\n",
    "spectrum amplitude $A_\\text{s}$. All the other parameters will be fixed to their simulated values.\n",
    "\n",
    "First we will define our likelihood\n",
    "\n"
   ]
  },
  {
   "cell_type": "code",
   "execution_count": 1,
   "metadata": {},
   "outputs": [],
   "source": [
    "def chi2(_theory={\"cl\": {\"tt\": lmax}}):\n",
    "        ls = np.arange(lmin, lmax)\n",
    "        Dl_theo = _theory.get_cl(ell_factor=True)[\"tt\"][lmin:lmax]\n",
    "        lb, Db_theo, _ = bin_spectrum(Dl_theo, ls, lmin, lmax, delta_l)\n",
    "        chi2 = np.sum(((Db_obs - Db_theo)/err_Db)**2)\n",
    "        return -chi2"
   ]
  },
  {
   "cell_type": "markdown",
   "metadata": {},
   "source": [
    "Our $\\chi^2$ function will need to get the binned $D_\\ell$ for every new set of cosmological\n",
    "parameters. `cobaya` provides the `theory` block as a parameter of the function with name `_theory` that\n",
    "must be respected. Since `cobaya` only deals with likelihood, we must return the negative value of\n",
    "$\\chi^2$ to make sure we maximize it over parameters (minimization process will minimize minus\n",
    "likelihood). We should now tell `cobaya` to use our likelihood function\n",
    "\n"
   ]
  },
  {
   "cell_type": "code",
   "execution_count": 1,
   "metadata": {},
   "outputs": [],
   "source": [
    "info[\"likelihood\"] = {\"chi2\": chi2}"
   ]
  },
  {
   "cell_type": "markdown",
   "metadata": {},
   "source": [
    "and that $A_\\text{s}$ may vary given a flat prior on its value\n",
    "\n"
   ]
  },
  {
   "cell_type": "code",
   "execution_count": 1,
   "metadata": {},
   "outputs": [
    {
     "name": "stdout",
     "output_type": "stream",
     "text": [
      "#+begin_example\n",
      "# Out[212]:\n",
      ",#+BEGIN_EXAMPLE\n",
      "  {'params': {'ombh2': 0.022,\n",
      "  'omch2': 0.12,\n",
      "  'H0': 68,\n",
      "  'tau': 0.07,\n",
      "  'As': {'prior': {'min': 1e-09, 'max': 4e-09}},\n",
      "  'ns': 0.96,\n",
      "  'mnu': 0.06,\n",
      "  'nnu': 3.046,\n",
      "  'num_massive_neutrinos': 1},\n",
      "  'likelihood': {'chi2': <function __main__.chi2(_theory={'cl': {'tt': 1000}})>},\n",
      "  'theory': {'camb': None}}\n",
      ",#+END_EXAMPLE\n",
      "#+end_example"
     ]
    }
   ],
   "source": [
    "info[\"params\"][\"As\"] = {\"prior\": {\"min\": 1e-9, \"max\": 4e-9}}\n",
    "info"
   ]
  },
  {
   "cell_type": "markdown",
   "metadata": {},
   "source": [
    "To make sure everything has been set properly, we can slice our likelihood function along different\n",
    "$A_\\text{s}$ values\n",
    "\n"
   ]
  },
  {
   "cell_type": "code",
   "execution_count": 1,
   "metadata": {},
   "outputs": [
    {
     "name": "stdout",
     "output_type": "stream",
     "text": [
      "# Out[222]:\n",
      "Text(0, 0.5, '$\\\\chi^2$')"
     ]
    },
    {
     "data": {
      "image/png": "[encoded data removed]",
      "text/plain": [
       "<matplotlib.figure.Figure>"
      ]
     },
     "metadata": {},
     "output_type": "display_data"
    }
   ],
   "source": [
    "model = get_model(info)\n",
    "As = np.linspace(1e-9, 4e-9, 10)\n",
    "chi2s = [-model.loglike({\"As\": A})[0] for A in As]\n",
    "\n",
    "plt.plot(As, chi2s)\n",
    "plt.xlabel(r\"$A_\\mathrm{s}$\")\n",
    "plt.ylabel(r\"$\\chi^2$\")"
   ]
  },
  {
   "cell_type": "markdown",
   "metadata": {},
   "source": [
    "### Running MINUIT\n",
    "\n"
   ]
  },
  {
   "cell_type": "markdown",
   "metadata": {},
   "source": [
    "Now that everything is set-up, we can run MINUIT. We still have to set the `sampler` method to `cobaya`\n",
    "\n"
   ]
  },
  {
   "cell_type": "code",
   "execution_count": 1,
   "metadata": {},
   "outputs": [],
   "source": [
    "info[\"sampler\"] = {\"minuit\": None}"
   ]
  },
  {
   "cell_type": "markdown",
   "metadata": {},
   "source": [
    "with its default settings and do the minimization\n",
    "\n"
   ]
  },
  {
   "cell_type": "code",
   "execution_count": 1,
   "metadata": {},
   "outputs": [],
   "source": [
    "from cobaya.run import run\n",
    "updated_info, products = run(info)"
   ]
  },
  {
   "cell_type": "markdown",
   "metadata": {},
   "source": [
    "The results of minimization are stored within the `products` variable which is a dictionary holding\n",
    "the `cobaya` formated results\n",
    "\n"
   ]
  },
  {
   "cell_type": "code",
   "execution_count": 1,
   "metadata": {},
   "outputs": [
    {
     "name": "stdout",
     "output_type": "stream",
     "text": [
      "# Out[225]:\n",
      "#+BEGIN_EXAMPLE\n",
      "  weight  minuslogpost            As  minuslogprior  minuslogprior__0  \\\n",
      "  0     1.0     16.983315  2.198691e-09     -19.624654        -19.624654\n",
      "\n",
      "  chi2  chi2__chi2\n",
      "  0  73.215938   73.215938\n",
      "#+END_EXAMPLE"
     ]
    }
   ],
   "source": [
    "products[\"maximum\"]"
   ]
  },
  {
   "cell_type": "markdown",
   "metadata": {},
   "source": [
    "as well as the [`scipy.optimize.OptimizeResult`](https://docs.scipy.org/doc/scipy/reference/generated/scipy.optimize.OptimizeResult.html)\n",
    "\n"
   ]
  },
  {
   "cell_type": "code",
   "execution_count": 1,
   "metadata": {},
   "outputs": [
    {
     "name": "stdout",
     "output_type": "stream",
     "text": [
      "# Out[226]:\n",
      "#+BEGIN_EXAMPLE\n",
      "  fun: 36.60796900562487\n",
      "  hess_inv: array([[3.09735377e-23]])\n",
      "  message: 'Optimization terminated successfully.'\n",
      "  minuit: <iminuit._libiminuit.Minuit object at 0x563b2d51b758>\n",
      "  nfev: 17\n",
      "  njev: 0\n",
      "  success: True\n",
      "  x: array([2.19869086e-09])\n",
      "#+END_EXAMPLE"
     ]
    }
   ],
   "source": [
    "products[\"OptimizeResult\"]"
   ]
  },
  {
   "cell_type": "markdown",
   "metadata": {},
   "source": [
    "We can plot the best $A_\\text{s}$ value found by MINUIT\n",
    "\n"
   ]
  },
  {
   "cell_type": "code",
   "execution_count": 1,
   "metadata": {},
   "outputs": [
    {
     "name": "stdout",
     "output_type": "stream",
     "text": [
      "# Out[237]:\n",
      "<matplotlib.legend.Legend at 0x7fa4f802d860>"
     ]
    },
    {
     "data": {
      "image/png": "[encoded data removed]",
      "text/plain": [
       "<matplotlib.figure.Figure>"
      ]
     },
     "metadata": {},
     "output_type": "display_data"
    }
   ],
   "source": [
    "plt.plot(As, chi2s, \"ok\")\n",
    "plt.xlabel(r\"$A_\\mathrm{s}$\")\n",
    "plt.ylabel(r\"$\\chi^2$\")\n",
    "\n",
    "# Fit with a 2nd order polynomial\n",
    "p = np.poly1d(np.polyfit(As, chi2s, 2))\n",
    "x = np.linspace(As[0], As[-1], 100)\n",
    "plt.plot(x, p(x), \"-r\", label=\"polynomial fit\")\n",
    "\n",
    "minAs = products[\"OptimizeResult\"].x\n",
    "minChi2 = products[\"OptimizeResult\"].fun\n",
    "plt.plot(minAs, minChi2, \"sr\", label=\"min value\")\n",
    "plt.legend()"
   ]
  },
  {
   "cell_type": "markdown",
   "metadata": {},
   "source": [
    "Next steps will be to relax other cosmological parameters&#x2026;\n",
    "\n"
   ]
  },
  {
   "cell_type": "markdown",
   "metadata": {},
   "source": [
    "### Putting everything into =yaml= file\n",
    "\n"
   ]
  },
  {
   "cell_type": "markdown",
   "metadata": {},
   "source": [
    "`cobaya` configuration can be done as in the example above, through the generation of dictionary that\n",
    "must respect some name convention and other syntax rules (for instance, you can not name\n",
    "cosmological parameters other than `params`). As your projet will grow, it may be useful to use a `yaml`\n",
    "configuration file to tell `cobaya` which parameters, samplers or theory code you want to use. The\n",
    "minimization configuration can be written as\n",
    "\n",
    "    params:\n",
    "      # Fixed\n",
    "      ombh2: 0.022\n",
    "      omch2: 0.12\n",
    "      H0: 68\n",
    "      tau: 0.07\n",
    "      ns: 0.96\n",
    "      mnu: 0.06\n",
    "      nnu: 3.046\n",
    "      num_massive_neutrinos: 1\n",
    "      # Sampled\n",
    "      As:\n",
    "        prior:\n",
    "          min: 2.0e-9\n",
    "          max: 2.2e-9\n",
    "    \n",
    "      theory:\n",
    "        camb:\n",
    "          stop_at_error: False\n",
    "    \n",
    "      sampler:\n",
    "        minuit:\n",
    "          ignore_prior: True\n",
    "    \n",
    "      output: minimize.d/minimize\n",
    "\n"
   ]
  }
 ],
 "metadata": {
  "kernelspec": {
   "display_name": "Python 3",
   "language": "python",
   "name": "python3"
  },
  "language_info": {
   "codemirror_mode": {
    "name": "ipython",
    "version": 3
   },
   "file_extension": ".py",
   "mimetype": "text/x-python",
   "name": "python",
   "nbconvert_exporter": "python",
   "pygments_lexer": "ipython3",
   "version": "3.7.2"
  },
  "org": null
 },
 "nbformat": 4,
 "nbformat_minor": 1
}
